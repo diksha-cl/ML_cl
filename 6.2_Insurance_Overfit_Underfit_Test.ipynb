{
 "cells": [
  {
   "cell_type": "code",
   "execution_count": 1,
   "metadata": {},
   "outputs": [],
   "source": [
    "# Load the dataset into pandas dataframe and print the sample of first 5 rows\n",
    "\n",
    "import pandas as pd\n",
    "import numpy as np\n",
    "\n",
    "df = pd.read_csv('https://github.com/diksha-cl/Data-files/blob/master/insurance_data.csv')\n",
    "\n",
    "# We create a new feature which is the product of the smoker and obesity features.\n",
    "df['smokOb'] = df['smoker'] * df['obese']\n",
    "\n",
    "# Create the pandas dataframe with the features and the pandas series with the target.\n",
    "\n",
    "X = df[['age', 'bmi', 'children', 'smoker', 'obese', 'sex', 'smokOb']]\n",
    "y = df['charges']"
   ]
  },
  {
   "cell_type": "code",
   "execution_count": 2,
   "metadata": {},
   "outputs": [],
   "source": [
    "# Do the train/test split.\n",
    "\n",
    "from sklearn.model_selection import train_test_split\n",
    "X_train, X_test, y_train, y_test = train_test_split(X, y, test_size=0.20, random_state=42)"
   ]
  },
  {
   "cell_type": "code",
   "execution_count": 3,
   "metadata": {},
   "outputs": [
    {
     "data": {
      "text/plain": [
       "LinearRegression(copy_X=True, fit_intercept=True, n_jobs=None,\n",
       "         normalize=False)"
      ]
     },
     "execution_count": 3,
     "metadata": {},
     "output_type": "execute_result"
    }
   ],
   "source": [
    "from sklearn import linear_model\n",
    "\n",
    "# Let's create an instance for the LinerRegression model\n",
    "lr = linear_model.LinearRegression()\n",
    "\n",
    "# Train the model on our train dataset\n",
    "lr.fit(X_train, y_train)"
   ]
  },
  {
   "cell_type": "code",
   "execution_count": 4,
   "metadata": {},
   "outputs": [
    {
     "name": "stdout",
     "output_type": "stream",
     "text": [
      "MAE: 2514.1908886233955\n",
      "RMSE: 4504.98801708294\n",
      "R-squared: 0.8593888467410522\n"
     ]
    }
   ],
   "source": [
    "# Compute the error metrics on the training set.\n",
    "y_train_hat = lr.predict(X_train)\n",
    "\n",
    "#Regression Evaluation Metrics\n",
    "from sklearn import metrics\n",
    "\n",
    "print('MAE:', metrics.mean_absolute_error(y_train, y_train_hat))\n",
    "print('RMSE:', np.sqrt(metrics.mean_squared_error(y_train, y_train_hat)))\n",
    "print('R-squared:', metrics.r2_score(y_train, y_train_hat))"
   ]
  },
  {
   "cell_type": "code",
   "execution_count": 5,
   "metadata": {},
   "outputs": [
    {
     "name": "stdout",
     "output_type": "stream",
     "text": [
      "MAE: 2377.7866280565795\n",
      "RMSE: 4284.029807145157\n",
      "R-squared: 0.8817838238537834\n"
     ]
    }
   ],
   "source": [
    "# Compute error metrics on the test set.\n",
    "y_test_hat = lr.predict(X_test)\n",
    "\n",
    "print('MAE:', metrics.mean_absolute_error(y_test, y_test_hat))\n",
    "print('RMSE:', np.sqrt(metrics.mean_squared_error(y_test, y_test_hat)))\n",
    "print('R-squared:', metrics.r2_score(y_test, y_test_hat))"
   ]
  },
  {
   "cell_type": "code",
   "execution_count": null,
   "metadata": {},
   "outputs": [],
   "source": []
  }
 ],
 "metadata": {
  "kernelspec": {
   "display_name": "Python 3",
   "language": "python",
   "name": "python3"
  },
  "language_info": {
   "codemirror_mode": {
    "name": "ipython",
    "version": 3
   },
   "file_extension": ".py",
   "mimetype": "text/x-python",
   "name": "python",
   "nbconvert_exporter": "python",
   "pygments_lexer": "ipython3",
   "version": "3.7.3"
  }
 },
 "nbformat": 4,
 "nbformat_minor": 1
}

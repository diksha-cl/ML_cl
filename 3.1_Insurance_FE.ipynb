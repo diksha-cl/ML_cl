{
 "cells": [
  {
   "cell_type": "code",
   "execution_count": 1,
   "metadata": {},
   "outputs": [],
   "source": [
    "# Load the dataset into pandas dataframe and print the sample of first 5 rows\n",
    "\n",
    "import pandas as pd\n",
    "import numpy as np\n",
    "\n",
    "df = pd.read_csv('https://raw.githubusercontent.com/diksha-cl/Data-files/master/insurance_data.csv')"
   ]
  },
  {
   "cell_type": "code",
   "execution_count": 2,
   "metadata": {},
   "outputs": [
    {
     "data": {
      "text/plain": [
       "<matplotlib.axes._subplots.AxesSubplot at 0x22b90bf37b8>"
      ]
     },
     "execution_count": 2,
     "metadata": {},
     "output_type": "execute_result"
    },
    {
     "data": {
      "image/png": "[encoded data removed]",
      "text/plain": [
       "<Figure size 432x288 with 1 Axes>"
      ]
     },
     "metadata": {
      "needs_background": "light"
     },
     "output_type": "display_data"
    }
   ],
   "source": [
    "# Lets see how the charges vary with the age.\n",
    "%matplotlib inline\n",
    "df.plot(x='age', y='charges', style='o')"
   ]
  },
  {
   "cell_type": "code",
   "execution_count": 3,
   "metadata": {},
   "outputs": [
    {
     "data": {
      "text/html": [
       "<div>\n",
       "<style scoped>\n",
       "    .dataframe tbody tr th:only-of-type {\n",
       "        vertical-align: middle;\n",
       "    }\n",
       "\n",
       "    .dataframe tbody tr th {\n",
       "        vertical-align: top;\n",
       "    }\n",
       "\n",
       "    .dataframe thead th {\n",
       "        text-align: right;\n",
       "    }\n",
       "</style>\n",
       "<table border=\"1\" class=\"dataframe\">\n",
       "  <thead>\n",
       "    <tr style=\"text-align: right;\">\n",
       "      <th></th>\n",
       "      <th>age</th>\n",
       "      <th>bmi</th>\n",
       "      <th>children</th>\n",
       "      <th>smoker</th>\n",
       "      <th>obese</th>\n",
       "      <th>sex</th>\n",
       "      <th>charges</th>\n",
       "    </tr>\n",
       "    <tr>\n",
       "      <th>group</th>\n",
       "      <th></th>\n",
       "      <th></th>\n",
       "      <th></th>\n",
       "      <th></th>\n",
       "      <th></th>\n",
       "      <th></th>\n",
       "      <th></th>\n",
       "    </tr>\n",
       "  </thead>\n",
       "  <tbody>\n",
       "    <tr>\n",
       "      <th>0</th>\n",
       "      <td>38.845918</td>\n",
       "      <td>30.492469</td>\n",
       "      <td>1.056122</td>\n",
       "      <td>0.007143</td>\n",
       "      <td>0.515306</td>\n",
       "      <td>0.486735</td>\n",
       "      <td>7112.209423</td>\n",
       "    </tr>\n",
       "    <tr>\n",
       "      <th>1</th>\n",
       "      <td>40.045918</td>\n",
       "      <td>28.061454</td>\n",
       "      <td>1.229592</td>\n",
       "      <td>0.586735</td>\n",
       "      <td>0.260204</td>\n",
       "      <td>0.489796</td>\n",
       "      <td>21339.427399</td>\n",
       "    </tr>\n",
       "    <tr>\n",
       "      <th>2</th>\n",
       "      <td>40.376543</td>\n",
       "      <td>34.845432</td>\n",
       "      <td>1.166667</td>\n",
       "      <td>0.938272</td>\n",
       "      <td>0.919753</td>\n",
       "      <td>0.635802</td>\n",
       "      <td>40761.308558</td>\n",
       "    </tr>\n",
       "  </tbody>\n",
       "</table>\n",
       "</div>"
      ],
      "text/plain": [
       "             age        bmi  children    smoker     obese       sex  \\\n",
       "group                                                                 \n",
       "0      38.845918  30.492469  1.056122  0.007143  0.515306  0.486735   \n",
       "1      40.045918  28.061454  1.229592  0.586735  0.260204  0.489796   \n",
       "2      40.376543  34.845432  1.166667  0.938272  0.919753  0.635802   \n",
       "\n",
       "            charges  \n",
       "group                \n",
       "0       7112.209423  \n",
       "1      21339.427399  \n",
       "2      40761.308558  "
      ]
     },
     "execution_count": 3,
     "metadata": {},
     "output_type": "execute_result"
    }
   ],
   "source": [
    "# Find the group characteristics, where the groups are defined as:\n",
    "# group 0: charges < 11000, \n",
    "# group 1: charges >= 11000 and charges < 30000, \n",
    "# group 2: charges >= 30000\n",
    "\n",
    "df['group'] = np.where(df.charges < 15000, 0, np.where(30000 <= df.charges, 2, 1))\n",
    "df.groupby('group').agg(np.mean)"
   ]
  },
  {
   "cell_type": "code",
   "execution_count": 4,
   "metadata": {},
   "outputs": [
    {
     "name": "stdout",
     "output_type": "stream",
     "text": [
      "7966 8853 21369 41692\n"
     ]
    }
   ],
   "source": [
    "c1 = int(df[(df.smoker == 0) & (df.obese == 0)]['charges'].mean())\n",
    "c2 = int(df[(df.smoker == 0) & (df.obese == 1)]['charges'].mean())\n",
    "c3 = int(df[(df.smoker == 1) & (df.obese == 0)]['charges'].mean())\n",
    "c4 = int(df[(df.smoker == 1) & (df.obese == 1)]['charges'].mean())\n",
    "print(c1, c2, c3, c4)"
   ]
  },
  {
   "cell_type": "code",
   "execution_count": 5,
   "metadata": {},
   "outputs": [
    {
     "name": "stdout",
     "output_type": "stream",
     "text": [
      "Number of customers who are both obese and smoke: 144\n",
      "Total number of customers 1338\n"
     ]
    }
   ],
   "source": [
    "# We create a new feature which is the product of the smoker and obesity features.\n",
    "\n",
    "df['smokOb'] = df['smoker'] * df['obese']\n",
    "print(\"Number of customers who are both obese and smoke:\", df[df.smokOb == 1].shape[0])\n",
    "print(\"Total number of customers\", df.shape[0])"
   ]
  },
  {
   "cell_type": "code",
   "execution_count": 6,
   "metadata": {},
   "outputs": [],
   "source": [
    "# Create the pandas dataframe with the features and the pandas series with the target.\n",
    "\n",
    "X = df[['age', 'bmi', 'children', 'smoker', 'obese', 'sex', 'smokOb']]\n",
    "y = df['charges']"
   ]
  },
  {
   "cell_type": "code",
   "execution_count": 7,
   "metadata": {},
   "outputs": [
    {
     "data": {
      "text/html": [
       "<div>\n",
       "<style scoped>\n",
       "    .dataframe tbody tr th:only-of-type {\n",
       "        vertical-align: middle;\n",
       "    }\n",
       "\n",
       "    .dataframe tbody tr th {\n",
       "        vertical-align: top;\n",
       "    }\n",
       "\n",
       "    .dataframe thead th {\n",
       "        text-align: right;\n",
       "    }\n",
       "</style>\n",
       "<table border=\"1\" class=\"dataframe\">\n",
       "  <thead>\n",
       "    <tr style=\"text-align: right;\">\n",
       "      <th></th>\n",
       "      <th>Coefficient</th>\n",
       "    </tr>\n",
       "  </thead>\n",
       "  <tbody>\n",
       "    <tr>\n",
       "      <th>age</th>\n",
       "      <td>264.217528</td>\n",
       "    </tr>\n",
       "    <tr>\n",
       "      <th>bmi</th>\n",
       "      <td>91.801444</td>\n",
       "    </tr>\n",
       "    <tr>\n",
       "      <th>children</th>\n",
       "      <td>505.007978</td>\n",
       "    </tr>\n",
       "    <tr>\n",
       "      <th>smoker</th>\n",
       "      <td>13434.330529</td>\n",
       "    </tr>\n",
       "    <tr>\n",
       "      <th>obese</th>\n",
       "      <td>-734.023995</td>\n",
       "    </tr>\n",
       "    <tr>\n",
       "      <th>sex</th>\n",
       "      <td>-467.296184</td>\n",
       "    </tr>\n",
       "    <tr>\n",
       "      <th>smokOb</th>\n",
       "      <td>19860.775096</td>\n",
       "    </tr>\n",
       "  </tbody>\n",
       "</table>\n",
       "</div>"
      ],
      "text/plain": [
       "           Coefficient\n",
       "age         264.217528\n",
       "bmi          91.801444\n",
       "children    505.007978\n",
       "smoker    13434.330529\n",
       "obese      -734.023995\n",
       "sex        -467.296184\n",
       "smokOb    19860.775096"
      ]
     },
     "execution_count": 7,
     "metadata": {},
     "output_type": "execute_result"
    }
   ],
   "source": [
    "from sklearn import linear_model\n",
    "\n",
    "# Let's create an instance for the LinerRegression model\n",
    "lr = linear_model.LinearRegression()\n",
    "\n",
    "# Train the model on our train dataset\n",
    "lr.fit(X, y)\n",
    "\n",
    "# Print the coefficients of the trained model.\n",
    "coeffs = pd.DataFrame(lr.coef_, X.columns, columns=['Coefficient'])\n",
    "coeffs"
   ]
  },
  {
   "cell_type": "code",
   "execution_count": 8,
   "metadata": {},
   "outputs": [
    {
     "data": {
      "text/html": [
       "<div>\n",
       "<style scoped>\n",
       "    .dataframe tbody tr th:only-of-type {\n",
       "        vertical-align: middle;\n",
       "    }\n",
       "\n",
       "    .dataframe tbody tr th {\n",
       "        vertical-align: top;\n",
       "    }\n",
       "\n",
       "    .dataframe thead th {\n",
       "        text-align: right;\n",
       "    }\n",
       "</style>\n",
       "<table border=\"1\" class=\"dataframe\">\n",
       "  <thead>\n",
       "    <tr style=\"text-align: right;\">\n",
       "      <th></th>\n",
       "      <th>Actual</th>\n",
       "      <th>Predictions</th>\n",
       "    </tr>\n",
       "  </thead>\n",
       "  <tbody>\n",
       "    <tr>\n",
       "      <th>0</th>\n",
       "      <td>16884.92400</td>\n",
       "      <td>16293.322314</td>\n",
       "    </tr>\n",
       "    <tr>\n",
       "      <th>1</th>\n",
       "      <td>1725.55230</td>\n",
       "      <td>2437.336532</td>\n",
       "    </tr>\n",
       "    <tr>\n",
       "      <th>2</th>\n",
       "      <td>4449.46200</td>\n",
       "      <td>6018.840654</td>\n",
       "    </tr>\n",
       "    <tr>\n",
       "      <th>3</th>\n",
       "      <td>21984.47061</td>\n",
       "      <td>5613.832489</td>\n",
       "    </tr>\n",
       "    <tr>\n",
       "      <th>4</th>\n",
       "      <td>3866.85520</td>\n",
       "      <td>5916.488877</td>\n",
       "    </tr>\n",
       "  </tbody>\n",
       "</table>\n",
       "</div>"
      ],
      "text/plain": [
       "        Actual   Predictions\n",
       "0  16884.92400  16293.322314\n",
       "1   1725.55230   2437.336532\n",
       "2   4449.46200   6018.840654\n",
       "3  21984.47061   5613.832489\n",
       "4   3866.85520   5916.488877"
      ]
     },
     "execution_count": 8,
     "metadata": {},
     "output_type": "execute_result"
    }
   ],
   "source": [
    "# Getting predictions from the model for the given examples.\n",
    "predictions = lr.predict(X)\n",
    "\n",
    "# Compare with the actual charges.\n",
    "Scores = pd.DataFrame({'Actual': y})\n",
    "column = pd.DataFrame({'Predictions': predictions})\n",
    "Scores = Scores.join(column.set_index(Scores.index))\n",
    "Scores.head()"
   ]
  },
  {
   "cell_type": "code",
   "execution_count": 9,
   "metadata": {},
   "outputs": [
    {
     "name": "stdout",
     "output_type": "stream",
     "text": [
      "MAE: 2452.4664569912807\n",
      "RMSE: 4460.511762340599\n",
      "Average Cost: 13270.422265141257\n",
      "R-squared 0.864229633041254\n"
     ]
    }
   ],
   "source": [
    "# Lets evaluate the model for its accuracy using various metrics such as RMSE, \n",
    "# and especially R-squared.\n",
    "from sklearn import metrics\n",
    "import numpy as np\n",
    "\n",
    "print('MAE:', metrics.mean_absolute_error(y, predictions))\n",
    "print('RMSE:', np.sqrt(metrics.mean_squared_error(y, predictions)))\n",
    "print('Average Cost:', y.mean())\n",
    "print('R-squared' , metrics.r2_score(y, predictions))"
   ]
  },
  {
   "cell_type": "code",
   "execution_count": null,
   "metadata": {},
   "outputs": [],
   "source": []
  }
 ],
 "metadata": {
  "kernelspec": {
   "display_name": "Python 3",
   "language": "python",
   "name": "python3"
  },
  "language_info": {
   "codemirror_mode": {
    "name": "ipython",
    "version": 3
   },
   "file_extension": ".py",
   "mimetype": "text/x-python",
   "name": "python",
   "nbconvert_exporter": "python",
   "pygments_lexer": "ipython3",
   "version": "3.7.3"
  }
 },
 "nbformat": 4,
 "nbformat_minor": 1
}
